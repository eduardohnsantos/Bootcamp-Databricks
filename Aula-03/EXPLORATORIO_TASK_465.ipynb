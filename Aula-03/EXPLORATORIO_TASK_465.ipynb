{
 "cells": [
  {
   "cell_type": "code",
   "execution_count": 0,
   "metadata": {
    "application/vnd.databricks.v1+cell": {
     "cellMetadata": {
      "byteLimit": 2048000,
      "implicitDf": true,
      "rowLimit": 10000
     },
     "inputWidgets": {},
     "nuid": "fc31c922-ab45-4651-af12-634cc26338c2",
     "showTitle": false,
     "tableResultSettingsMap": {},
     "title": ""
    }
   },
   "outputs": [],
   "source": [
    "%sql\n",
    "CREATE OR REPLACE TABLE silver.customers AS \n",
    "SELECT \n",
    "    customer_id,\n",
    "    name,\n",
    "    email,\n",
    "    CAST(usd_balance AS DOUBLE) AS usd_balance_original,  -- Mantendo saldo original de USD\n",
    "    CAST(btc_balance AS DOUBLE) AS btc_balance_original,  -- Mantendo saldo original de BTC\n",
    "    CAST(last_update AS TIMESTAMP) AS last_update\n",
    "FROM bronze.customers\n",
    "WHERE name NOT IN ('Mark Cunningham', 'Mark Savage');  -- Removendo clientes inválidos"
   ]
  },
  {
   "cell_type": "code",
   "execution_count": 0,
   "metadata": {
    "application/vnd.databricks.v1+cell": {
     "cellMetadata": {
      "byteLimit": 2048000,
      "implicitDf": true,
      "rowLimit": 10000
     },
     "inputWidgets": {},
     "nuid": "a0d62c36-30e4-40e0-9e48-403f4ebfef77",
     "showTitle": false,
     "tableResultSettingsMap": {},
     "title": ""
    }
   },
   "outputs": [
    {
     "output_type": "display_data",
     "data": {
      "text/html": [
       "<style scoped>\n",
       "  .table-result-container {\n",
       "    max-height: 300px;\n",
       "    overflow: auto;\n",
       "  }\n",
       "  table, th, td {\n",
       "    border: 1px solid black;\n",
       "    border-collapse: collapse;\n",
       "  }\n",
       "  th, td {\n",
       "    padding: 5px;\n",
       "  }\n",
       "  th {\n",
       "    text-align: left;\n",
       "  }\n",
       "</style><div class='table-result-container'><table class='table-result'><thead style='background-color: white'><tr><th>num_affected_rows</th><th>num_inserted_rows</th></tr></thead><tbody></tbody></table></div>"
      ]
     },
     "metadata": {
      "application/vnd.databricks.v1+output": {
       "addedWidgets": {},
       "aggData": [],
       "aggError": "",
       "aggOverflow": false,
       "aggSchema": [],
       "aggSeriesLimitReached": false,
       "aggType": "",
       "arguments": {},
       "columnCustomDisplayInfos": {},
       "data": [],
       "datasetInfos": [],
       "dbfsResultPath": null,
       "isJsonSchema": true,
       "metadata": {
        "createTempViewForImplicitDf": true,
        "dataframeName": "_sqldf",
        "executionCount": 1
       },
       "overflow": false,
       "plotOptions": {
        "customPlotOptions": {},
        "displayType": "table",
        "pivotAggregation": null,
        "pivotColumns": null,
        "xColumns": null,
        "yColumns": null
       },
       "removedWidgets": [],
       "schema": [
        {
         "metadata": "{}",
         "name": "num_affected_rows",
         "type": "\"long\""
        },
        {
         "metadata": "{}",
         "name": "num_inserted_rows",
         "type": "\"long\""
        }
       ],
       "type": "table"
      }
     },
     "output_type": "display_data"
    }
   ],
   "source": [
    "%sql\n",
    "CREATE OR REPLACE TABLE silver.transactions AS \n",
    "SELECT \n",
    "    transaction_id,\n",
    "    customer_id,\n",
    "    CAST(transaction_type AS STRING) AS transaction_type,  -- Forçando para STRING\n",
    "    btc_amount,\n",
    "    transaction_date\n",
    "FROM bronze.transactions\n",
    "WHERE DATE(transaction_date) BETWEEN '2025-01-29' AND '2025-01-30'; -- Regra de transações válidas"
   ]
  },
  {
   "cell_type": "code",
   "execution_count": 0,
   "metadata": {
    "application/vnd.databricks.v1+cell": {
     "cellMetadata": {
      "byteLimit": 2048000,
      "implicitDf": true,
      "rowLimit": 10000
     },
     "inputWidgets": {},
     "nuid": "cfede027-bf9c-436a-ac1e-4699ff1c4114",
     "showTitle": false,
     "tableResultSettingsMap": {},
     "title": ""
    }
   },
   "outputs": [],
   "source": [
    "%sql\n",
    "CREATE OR REPLACE TABLE silver.bitcoin_price AS \n",
    "SELECT \n",
    "    datetime AS price_timestamp,\n",
    "    currency,\n",
    "    amount AS btc_price\n",
    "FROM bronze.bitcoin_price;"
   ]
  },
  {
   "cell_type": "code",
   "execution_count": 0,
   "metadata": {
    "application/vnd.databricks.v1+cell": {
     "cellMetadata": {
      "byteLimit": 2048000,
      "implicitDf": true,
      "rowLimit": 10000
     },
     "inputWidgets": {},
     "nuid": "fd5c85b2-1abd-4d17-a764-4ed71a3b985e",
     "showTitle": false,
     "tableResultSettingsMap": {},
     "title": ""
    }
   },
   "outputs": [],
   "source": [
    "%sql\n",
    "CREATE OR REPLACE TABLE gold.transactions AS \n",
    "WITH btc_price AS (\n",
    "    SELECT \n",
    "        price_timestamp, \n",
    "        btc_price,\n",
    "        LAG(price_timestamp) OVER (ORDER BY price_timestamp) AS prev_timestamp\n",
    "    FROM silver.bitcoin_price\n",
    ")\n",
    "SELECT \n",
    "    t.transaction_id,\n",
    "    t.customer_id,\n",
    "    t.btc_amount,\n",
    "    t.transaction_type,\n",
    "    -- Valor da transação em USD (compra negativa, venda positiva)\n",
    "    ROUND(\n",
    "        CASE \n",
    "            WHEN t.transaction_type = 'compra' THEN (t.btc_amount * p.btc_price) * -1  \n",
    "            ELSE (t.btc_amount * p.btc_price)  \n",
    "        END, 2\n",
    "    ) AS transaction_value_in_usd,\n",
    "    t.transaction_date\n",
    "FROM silver.transactions t\n",
    "JOIN btc_price p\n",
    "    ON t.transaction_date BETWEEN p.prev_timestamp AND p.price_timestamp;"
   ]
  },
  {
   "cell_type": "code",
   "execution_count": 0,
   "metadata": {
    "application/vnd.databricks.v1+cell": {
     "cellMetadata": {},
     "inputWidgets": {},
     "nuid": "2030a17d-4acc-4a41-a569-2d1da984424e",
     "showTitle": false,
     "tableResultSettingsMap": {},
     "title": ""
    }
   },
   "outputs": [],
   "source": [
    "%sql\n",
    "CREATE OR REPLACE TABLE gold.customers AS \n",
    "SELECT \n",
    "    c.customer_id,\n",
    "    c.name,\n",
    "    c.email,\n",
    "    c.usd_balance_original,  -- Mantendo saldo original de USD\n",
    "    c.btc_balance_original,  -- Mantendo saldo original de BTC\n",
    "    -- Calculando saldo atualizado de BTC considerando compras e vendas\n",
    "    c.btc_balance_original + COALESCE(SUM(\n",
    "        CASE \n",
    "            WHEN t.transaction_type = 'compra' THEN t.btc_amount  -- Se comprou, adiciona BTC\n",
    "            WHEN t.transaction_type = 'venda' THEN -t.btc_amount  -- Se vendeu, reduz BTC\n",
    "            ELSE 0\n",
    "        END\n",
    "    ), 0) AS btc_balance_final,\n",
    "    COUNT(t.transaction_id) AS total_transactions,\n",
    "    -- Calculando total de USD gasto somando transaction_value_in_usd com usd_balance_original\n",
    "    c.usd_balance_original + COALESCE(SUM(t.transaction_value_in_usd), 0) AS usd_balance_final\n",
    "FROM silver.customers c\n",
    "LEFT JOIN gold.transactions t ON c.customer_id = t.customer_id\n",
    "GROUP BY c.customer_id, c.name, c.email, c.usd_balance_original, c.btc_balance_original;"
   ]
  }
 ],
 "metadata": {
  "application/vnd.databricks.v1+notebook": {
   "computePreferences": null,
   "dashboards": [],
   "environmentMetadata": {
    "base_environment": "",
    "environment_version": "2"
   },
   "language": "python",
   "notebookMetadata": {
    "mostRecentlyExecutedCommandWithImplicitDF": {
     "commandId": 5936144304733667,
     "dataframes": [
      "_sqldf"
     ]
    },
    "pythonIndentUnit": 4
   },
   "notebookName": "EXPLORATORIO_TASK_465",
   "widgets": {}
  },
  "language_info": {
   "name": "python"
  }
 },
 "nbformat": 4,
 "nbformat_minor": 0
}