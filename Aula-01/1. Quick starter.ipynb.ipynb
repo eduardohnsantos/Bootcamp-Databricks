{
 "cells": [
  {
   "cell_type": "code",
   "execution_count": 0,
   "metadata": {
    "application/vnd.databricks.v1+cell": {
     "cellMetadata": {
      "byteLimit": 2048000,
      "rowLimit": 10000
     },
     "inputWidgets": {},
     "nuid": "a3f965d9-1793-40a0-ba33-07f59172be95",
     "showTitle": false,
     "tableResultSettingsMap": {},
     "title": ""
    }
   },
   "outputs": [],
   "source": [
    "spark.conf.set(\"spark.databricks.io.cache.enabled\", False)\n",
    "# Esse comando desabilita o cache de leitura de dados gerenciado automaticamente pela plataforma Databricks."
   ]
  },
  {
   "cell_type": "markdown",
   "metadata": {
    "application/vnd.databricks.v1+cell": {
     "cellMetadata": {},
     "inputWidgets": {},
     "nuid": "986bfda3-2650-448f-bd98-3e920fe6e0e7",
     "showTitle": false,
     "tableResultSettingsMap": {},
     "title": ""
    }
   },
   "source": [
    "## O que é o cache no Databricks?\n",
    "O Databricks oferece uma funcionalidade chamada **Disk IO Cache**, que é usada para melhorar o desempenho da leitura de dados. Ele funciona armazenando em disco (e, em alguns casos, na memória) os dados mais frequentemente acessados de arquivos, como Parquet ou Delta. Isso reduz o tempo necessário para ler os dados do armazenamento original (como o Amazon S3 ou o Azure Data Lake).\n",
    "\n",
    "Quando o cache está **habilitado** (True):\n",
    "\n",
    "- Os dados acessados por operações de leitura são armazenados no cache.\n",
    "- Leituras subsequentes desses dados são mais rápidas porque evitam acessar o armazenamento remoto.\n",
    "\n",
    "Quando o cache está **desabilitad**o (False):\n",
    "\n",
    "- Todas as leituras de dados são feitas diretamente no armazenamento original, sem usar o cache."
   ]
  },
  {
   "cell_type": "markdown",
   "metadata": {
    "application/vnd.databricks.v1+cell": {
     "cellMetadata": {},
     "inputWidgets": {},
     "nuid": "7d783482-e8c7-4bd3-8589-e69d75932d1e",
     "showTitle": false,
     "tableResultSettingsMap": {},
     "title": ""
    }
   },
   "source": [
    "### Por que desabilitar o cache?\n",
    "\n",
    "1. **Economizar recursos:** O cache pode consumir espaço em disco e memória no cluster. Se não houver necessidade de melhorar o desempenho das leituras ou se os dados já são pequenos e rápidos de ler, o cache pode ser desabilitado.\n",
    "2. **Cenários de dados dinâmicos:** Se os dados mudam frequentemente, o cache pode ficar desatualizado, causando leituras inconsistentes ou desperdício de recursos.\n",
    "3. **Evitar comportamento inesperado:** Em alguns casos, como em ambientes de teste, você pode querer desabilitar o cache para garantir que os dados sejam sempre lidos diretamente do armazenamento original."
   ]
  },
  {
   "cell_type": "markdown",
   "metadata": {
    "application/vnd.databricks.v1+cell": {
     "cellMetadata": {},
     "inputWidgets": {},
     "nuid": "4e59fa9e-3618-41aa-9ff4-e677dd71ea79",
     "showTitle": false,
     "tableResultSettingsMap": {},
     "title": ""
    }
   },
   "source": [
    "### O que acontece com esse comando?\n",
    "**spark.config.set**(\"spark.databricks.io.cache.enabled\", False\n",
    "\n",
    "1. Instrução **spark.config.set**: Define uma configuração para a sessão Spark atual.\n",
    "2. **\"spark.databricks.io.cache.enabled\"**: É a chave que controla se o cache do Databricks está habilitado (True) ou desabilitado (False).\n",
    "3. **False:** Desabilita o cache.\n"
   ]
  },
  {
   "cell_type": "markdown",
   "metadata": {
    "application/vnd.databricks.v1+cell": {
     "cellMetadata": {},
     "inputWidgets": {},
     "nuid": "a5886deb-7f72-4536-a408-3f3c2b6e6d2a",
     "showTitle": false,
     "tableResultSettingsMap": {},
     "title": ""
    }
   },
   "source": [
    "### Impacto\n",
    "\n",
    "- **Desempenho:** Leituras podem ser mais lentas porque os dados não serão armazenados localmente para acesso rápido.\n",
    "- **Consistência:** Garante que as leituras sempre reflitam os dados mais recentes no armazenamento original.\n",
    "- **Recursos:** Libera espaço em disco e memória no cluster, o que pode ser útil para workloads com dados grandes ou dinâmicos.\n",
    "\n",
    "Se você tem certeza de que o cache não é necessário no seu cenário, desabilitar pode simplificar a operação e economizar recursos no cluster.\n"
   ]
  },
  {
   "cell_type": "markdown",
   "metadata": {
    "application/vnd.databricks.v1+cell": {
     "cellMetadata": {},
     "inputWidgets": {},
     "nuid": "99cb7628-dc06-4ca7-849f-414133bf9fa0",
     "showTitle": false,
     "tableResultSettingsMap": {},
     "title": ""
    }
   },
   "source": [
    "### Dados de exemplo\n"
   ]
  },
  {
   "cell_type": "markdown",
   "metadata": {
    "application/vnd.databricks.v1+cell": {
     "cellMetadata": {},
     "inputWidgets": {},
     "nuid": "ecdd6387-9f26-4249-95eb-630627bb1078",
     "showTitle": false,
     "tableResultSettingsMap": {},
     "title": ""
    }
   },
   "source": [
    "### Queremos entender o tamanho desse dataset"
   ]
  },
  {
   "cell_type": "code",
   "execution_count": 0,
   "metadata": {
    "application/vnd.databricks.v1+cell": {
     "cellMetadata": {
      "byteLimit": 2048000,
      "rowLimit": 10000
     },
     "inputWidgets": {},
     "nuid": "1f09881f-c032-4909-a616-6b780f734629",
     "showTitle": false,
     "tableResultSettingsMap": {},
     "title": ""
    }
   },
   "outputs": [],
   "source": [
    "total_size = 0\n",
    "\n",
    "for x in dbutils.fs.ls(\"/databricks-datasets/nyctaxi/tripdata/yellow/\"):\n",
    "    print(x.name, \"-\", round(x.size / (1024 * 1024), 2), \"MB\")\n",
    "    total_size += x.size\n",
    "\n",
    "print(\"Total size:\", round(total_size / (1024 * 1024), 2), \"MB\")"
   ]
  },
  {
   "cell_type": "markdown",
   "metadata": {
    "application/vnd.databricks.v1+cell": {
     "cellMetadata": {},
     "inputWidgets": {},
     "nuid": "bba944a1-8380-476c-b56c-cc5bf0a347da",
     "showTitle": false,
     "tableResultSettingsMap": {},
     "title": ""
    }
   },
   "source": [
    "### Dados de 2009\n"
   ]
  },
  {
   "cell_type": "code",
   "execution_count": 0,
   "metadata": {
    "application/vnd.databricks.v1+cell": {
     "cellMetadata": {
      "byteLimit": 2048000,
      "rowLimit": 10000
     },
     "inputWidgets": {},
     "nuid": "5119c239-0c3d-48b4-9c80-e35985a23418",
     "showTitle": false,
     "tableResultSettingsMap": {},
     "title": ""
    }
   },
   "outputs": [],
   "source": [
    "spark\\\n",
    "    .read\\\n",
    "    .csv(\"/databricks-datasets/nyctaxi/tripdata/yellow/yellow_tripdata_2009*\")\\\n",
    "    .count()"
   ]
  },
  {
   "cell_type": "markdown",
   "metadata": {
    "application/vnd.databricks.v1+cell": {
     "cellMetadata": {},
     "inputWidgets": {},
     "nuid": "7fe14f83-adee-4e83-b8f6-3ff36459ee66",
     "showTitle": false,
     "tableResultSettingsMap": {},
     "title": ""
    }
   },
   "source": [
    "Vamos investigar o Spark UI\n",
    "\n",
    "Tem várias maneiras de chegarmos aqui."
   ]
  },
  {
   "cell_type": "markdown",
   "metadata": {
    "application/vnd.databricks.v1+cell": {
     "cellMetadata": {
      "byteLimit": 2048000,
      "rowLimit": 10000
     },
     "inputWidgets": {},
     "nuid": "1d04a030-3fa6-495c-8865-73329749b4cf",
     "showTitle": false,
     "tableResultSettingsMap": {},
     "title": ""
    }
   },
   "source": [
    "### Dados de 2009 e 2010"
   ]
  },
  {
   "cell_type": "code",
   "execution_count": 0,
   "metadata": {
    "application/vnd.databricks.v1+cell": {
     "cellMetadata": {
      "byteLimit": 2048000,
      "rowLimit": 10000
     },
     "inputWidgets": {},
     "nuid": "a6169f16-743e-493f-9450-be78f6d9386d",
     "showTitle": false,
     "tableResultSettingsMap": {},
     "title": ""
    }
   },
   "outputs": [],
   "source": [
    "spark\\\n",
    "    .read\\\n",
    "    .csv(\"/databricks-datasets/nyctaxi/tripdata/yellow/yellow_tripdata_{2009,2010}*\")\\\n",
    "    .count()\n",
    "     "
   ]
  },
  {
   "cell_type": "markdown",
   "metadata": {
    "application/vnd.databricks.v1+cell": {
     "cellMetadata": {},
     "inputWidgets": {},
     "nuid": "14600d38-d2c2-4d07-8218-1c8f02a49283",
     "showTitle": false,
     "tableResultSettingsMap": {},
     "title": ""
    }
   },
   "source": [
    "### Lendo somente 1 arquivo"
   ]
  },
  {
   "cell_type": "code",
   "execution_count": 0,
   "metadata": {
    "application/vnd.databricks.v1+cell": {
     "cellMetadata": {
      "byteLimit": 2048000,
      "rowLimit": 10000
     },
     "inputWidgets": {},
     "nuid": "225efe37-1945-4c22-b857-45f914041aaf",
     "showTitle": false,
     "tableResultSettingsMap": {},
     "title": ""
    }
   },
   "outputs": [],
   "source": [
    "\n",
    "spark\\\n",
    "    .read\\\n",
    "    .csv(\"/databricks-datasets/nyctaxi/tripdata/yellow/yellow_tripdata_2019-12.csv.gz\")\\\n",
    "    .count()"
   ]
  }
 ],
 "metadata": {
  "application/vnd.databricks.v1+notebook": {
   "computePreferences": null,
   "dashboards": [],
   "environmentMetadata": {
    "base_environment": "",
    "environment_version": "2"
   },
   "language": "python",
   "notebookMetadata": {
    "pythonIndentUnit": 4
   },
   "notebookName": "1. Quick starter.ipynb",
   "widgets": {}
  },
  "language_info": {
   "name": "python"
  }
 },
 "nbformat": 4,
 "nbformat_minor": 0
}
