{
 "cells": [
  {
   "cell_type": "markdown",
   "metadata": {
    "application/vnd.databricks.v1+cell": {
     "cellMetadata": {},
     "inputWidgets": {},
     "nuid": "5de0b579-895d-4141-98ca-f304832733cf",
     "showTitle": false,
     "tableResultSettingsMap": {},
     "title": ""
    }
   },
   "source": [
    "### Nossa task\n"
   ]
  },
  {
   "cell_type": "markdown",
   "metadata": {
    "application/vnd.databricks.v1+cell": {
     "cellMetadata": {},
     "inputWidgets": {},
     "nuid": "b6df701a-a54e-4304-aef1-2d39e7fd0a84",
     "showTitle": false,
     "tableResultSettingsMap": {},
     "title": ""
    }
   },
   "source": [
    "Encontrar o número de viagens, por número de passageiros"
   ]
  },
  {
   "cell_type": "code",
   "execution_count": 0,
   "metadata": {
    "application/vnd.databricks.v1+cell": {
     "cellMetadata": {
      "byteLimit": 2048000,
      "rowLimit": 10000
     },
     "inputWidgets": {},
     "nuid": "48fc2028-d2df-4c89-980c-c533fdbebd10",
     "showTitle": false,
     "tableResultSettingsMap": {},
     "title": ""
    }
   },
   "outputs": [],
   "source": [
    "%fs ls dbfs:/databricks-datasets/nyctaxi/tripdata/yellow"
   ]
  },
  {
   "cell_type": "code",
   "execution_count": 0,
   "metadata": {
    "application/vnd.databricks.v1+cell": {
     "cellMetadata": {
      "byteLimit": 2048000,
      "rowLimit": 10000
     },
     "inputWidgets": {},
     "nuid": "a3165048-4eed-4944-af07-c5edc9000960",
     "showTitle": false,
     "tableResultSettingsMap": {},
     "title": ""
    }
   },
   "outputs": [],
   "source": [
    "display(spark.read.csv(\"dbfs:/databricks-datasets/nyctaxi/tripdata/yellow\", header=True))"
   ]
  },
  {
   "cell_type": "markdown",
   "metadata": {
    "application/vnd.databricks.v1+cell": {
     "cellMetadata": {},
     "inputWidgets": {},
     "nuid": "ad98c3a9-bd66-4e0d-a50b-2efce33e2bad",
     "showTitle": false,
     "tableResultSettingsMap": {},
     "title": ""
    }
   },
   "source": [
    "Setup"
   ]
  },
  {
   "cell_type": "code",
   "execution_count": 0,
   "metadata": {
    "application/vnd.databricks.v1+cell": {
     "cellMetadata": {
      "byteLimit": 2048000,
      "rowLimit": 10000
     },
     "inputWidgets": {},
     "nuid": "244fb86c-ea36-4c01-9245-0909a32b71a7",
     "showTitle": false,
     "tableResultSettingsMap": {},
     "title": ""
    }
   },
   "outputs": [],
   "source": [
    "rdd = sc.textFile(\"dbfs:/databricks-datasets/nyctaxi/tripdata/yellow/yellow_tripdata_2011-04.csv.gz\") \\\n",
    "        .filter(lambda row: \"vendor_id\" not in row)\n",
    "\n",
    "rdd = rdd.map(lambda line: line.split(\",\")) \\\n",
    "         .filter(lambda row: len(row) > 3)  # Garante que haja pelo menos 4 colunas\n",
    "\n",
    "contagem_do_numero_de_passageiros = rdd.map(lambda row: (row[3], 1)) \\\n",
    "                                       .reduceByKey(lambda x, y: x + y)\n",
    "\n",
    "for passenger_count, trip_count in contagem_do_numero_de_passageiros.collect():\n",
    "    print(f\"o número de passageiros é {passenger_count} e o número de viagens é {trip_count}\")\n"
   ]
  },
  {
   "cell_type": "markdown",
   "metadata": {
    "application/vnd.databricks.v1+cell": {
     "cellMetadata": {},
     "inputWidgets": {},
     "nuid": "835a2ed7-de9e-4808-9a42-aaa4818a7c4e",
     "showTitle": false,
     "tableResultSettingsMap": {},
     "title": ""
    }
   },
   "source": [
    "Dataframes"
   ]
  },
  {
   "cell_type": "code",
   "execution_count": 0,
   "metadata": {
    "application/vnd.databricks.v1+cell": {
     "cellMetadata": {
      "byteLimit": 2048000,
      "rowLimit": 10000
     },
     "inputWidgets": {},
     "nuid": "fa008406-b47e-450e-a5a2-1563a935e605",
     "showTitle": false,
     "tableResultSettingsMap": {},
     "title": ""
    }
   },
   "outputs": [],
   "source": [
    "df2 = spark.read.option(\"header\", True).csv(\"dbfs:/databricks-datasets/nyctaxi/tripdata/yellow/yellow_tripdata_2011-04.csv.gz\")\n",
    "\n",
    "df2.groupBy(\"passenger_count\").count().show()"
   ]
  },
  {
   "cell_type": "markdown",
   "metadata": {
    "application/vnd.databricks.v1+cell": {
     "cellMetadata": {},
     "inputWidgets": {},
     "nuid": "0dfc227d-c8e8-430b-8e2e-55a53e0f9d15",
     "showTitle": false,
     "tableResultSettingsMap": {},
     "title": ""
    }
   },
   "source": [
    "Dataset"
   ]
  },
  {
   "cell_type": "code",
   "execution_count": 0,
   "metadata": {
    "application/vnd.databricks.v1+cell": {
     "cellMetadata": {
      "byteLimit": 2048000,
      "rowLimit": 10000
     },
     "inputWidgets": {},
     "nuid": "0037cec5-034c-4885-8e61-4c987d15e4fc",
     "showTitle": false,
     "tableResultSettingsMap": {},
     "title": ""
    }
   },
   "outputs": [],
   "source": [
    "%scala\n",
    "\n",
    "// Declaração correta da classe TaxiTrip\n",
    "case class TaxiTrip(\n",
    "  vendor_id: String,\n",
    "  pickup_datetime: String,\n",
    "  dropoff_datetime: String,\n",
    "  passenger_count: String,\n",
    "  trip_distance: String,\n",
    "  pickup_longitude: String,\n",
    "  pickup_latitude: String,\n",
    "  rate_code: String,\n",
    "  store_and_fwd_flag: String,\n",
    "  dropoff_longitude: String,\n",
    "  dropoff_latitude: String,\n",
    "  payment_type: String,\n",
    "  fare_amount: String,\n",
    "  surcharge: String,\n",
    "  mta_tax: String,\n",
    "  tip_amount: String,\n",
    "  tolls_amount: String,\n",
    "  total_amount: String\n",
    ")\n",
    "\n",
    "/*df2 = spark.read.option(\"header\", True).csv(\"dbfs:/databricks-datasets/nyctaxi/tripdata/yellow/yellow_tripdata_2011-04.csv.gz\")*/\n",
    "\n",
    "// Leitura do arquivo e transformação em Dataset\n",
    "val dataset = spark.read\n",
    "  .option(\"header\", true)\n",
    "  .csv(\"dbfs:/databricks-datasets/nyctaxi/tripdata/yellow/yellow_tripdata_2011-04.csv.gz\")\n",
    "  .as[TaxiTrip] // Converte o DataFrame em Dataset\n",
    "\n",
    "// Agrupamento por `Passenger_Count` e contagem\n",
    "dataset.groupBy(\"Passenger_Count\").count().show()\n"
   ]
  }
 ],
 "metadata": {
  "application/vnd.databricks.v1+notebook": {
   "computePreferences": null,
   "dashboards": [],
   "environmentMetadata": {
    "base_environment": "",
    "environment_version": "2"
   },
   "language": "python",
   "notebookMetadata": {
    "mostRecentlyExecutedCommandWithImplicitDF": {
     "commandId": 8108602374336462,
     "dataframes": [
      "_sqldf"
     ]
    },
    "pythonIndentUnit": 4
   },
   "notebookName": "RDDs, DataFrames and DataSets",
   "widgets": {}
  },
  "language_info": {
   "name": "python"
  }
 },
 "nbformat": 4,
 "nbformat_minor": 0
}
