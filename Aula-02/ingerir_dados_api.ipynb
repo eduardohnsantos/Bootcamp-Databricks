{
 "cells": [
  {
   "cell_type": "code",
   "execution_count": 0,
   "metadata": {
    "application/vnd.databricks.v1+cell": {
     "cellMetadata": {
      "byteLimit": 2048000,
      "rowLimit": 10000
     },
     "inputWidgets": {},
     "nuid": "bae41936-2a1e-4cb9-8c1b-8f97dd3974ea",
     "showTitle": false,
     "tableResultSettingsMap": {},
     "title": ""
    }
   },
   "outputs": [
    {
     "output_type": "stream",
     "name": "stdout",
     "output_type": "stream",
     "text": [
      "Obtendo dados da API Coinbase...\nDados obtidos: {'amount': 96304.995, 'base': 'BTC', 'currency': 'USD'}\nSalvando dados na tabela gerenciada...\nDados salvos na table bronze.bitcoin_price\nPipeline concluído com sucesso.\n"
     ]
    }
   ],
   "source": [
    "import requests\n",
    "from pyspark.sql import SparkSession\n",
    "from pyspark.sql.types import StructType, StructField, StringType, FloatType, TimestampType\n",
    "from datetime import datetime\n",
    "\n",
    "# Inicializar Spark\n",
    "spark = SparkSession.builder.appName(\"Bitcoin Price Integration\").getOrCreate()\n",
    "\n",
    "# Configurações\n",
    "API_URL = \"https://api.coinbase.com/v2/prices/spot?currency=USD\"\n",
    "DELTA_PATH = \"/mnt/delta/bitcoin_price\"\n",
    "\n",
    "def fetch_bitcoin_price():\n",
    "    \"\"\"Obtém o preço atual do Bitcoin da API Coinbase.\"\"\"\n",
    "    try:\n",
    "        response = requests.get(API_URL)\n",
    "        response.raise_for_status()\n",
    "        data = response.json()['data']\n",
    "        return {\n",
    "            \"amount\": float(data['amount']),\n",
    "            \"base\": data['base'],\n",
    "            \"currency\": data['currency']\n",
    "        }\n",
    "    except requests.exceptions.RequestException as e:\n",
    "        raise Exception(f\"Erro ao acessar a API: {e}\")\n",
    "\n",
    "def save_to_table(data):\n",
    "    \"\"\"Salva os dados no Delta Lake.\"\"\"\n",
    "    # Schema para DataFrame\n",
    "    schema = StructType([\n",
    "        StructField(\"amount\", FloatType(), True),\n",
    "        StructField(\"base\", StringType(), True),\n",
    "        StructField(\"currency\", StringType(), True)\n",
    "    ])\n",
    "    \n",
    "    # Converter para DataFrame\n",
    "    data_df = spark.createDataFrame([data], schema=schema)\n",
    "    \n",
    "   # Salvar diretamente como tabela gerenciada no Unity Catalog\n",
    "    table_name = \"bronze.bitcoin_price\" # Substitua 'default' pelo schema correto se necessário\n",
    "    data_df.write.format(\"delta\").mode(\"append\").saveAsTable(table_name)\n",
    "    print(f\"Dados salvos na table {table_name}\") \n",
    "\n",
    "if __name__ == \"__main__\":\n",
    "    # Obter dados da API\n",
    "    print(\"Obtendo dados da API Coinbase...\")\n",
    "    bitcoin_price = fetch_bitcoin_price()\n",
    "    print(f\"Dados obtidos:\", bitcoin_price)\n",
    "   \n",
    "   # Salvar na tabela gerenciada\n",
    "    print(\"Salvando dados na tabela gerenciada...\")\n",
    "    save_to_table(bitcoin_price)\n",
    "    print(\"Pipeline concluído com sucesso.\")"
   ]
  }
 ],
 "metadata": {
  "application/vnd.databricks.v1+notebook": {
   "computePreferences": null,
   "dashboards": [],
   "environmentMetadata": {
    "base_environment": "",
    "environment_version": "2"
   },
   "language": "python",
   "notebookMetadata": {
    "mostRecentlyExecutedCommandWithImplicitDF": {
     "commandId": 8934515771890433,
     "dataframes": [
      "_sqldf"
     ]
    },
    "pythonIndentUnit": 4
   },
   "notebookName": "ingerir_dados_api",
   "widgets": {}
  },
  "language_info": {
   "name": "python"
  }
 },
 "nbformat": 4,
 "nbformat_minor": 0
}