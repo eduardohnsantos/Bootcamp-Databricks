{
 "cells": [
  {
   "cell_type": "code",
   "execution_count": 0,
   "metadata": {
    "application/vnd.databricks.v1+cell": {
     "cellMetadata": {
      "byteLimit": 2048000,
      "rowLimit": 10000
     },
     "inputWidgets": {},
     "nuid": "cd1d5b6d-14f7-4ae3-add7-912119b2f956",
     "showTitle": false,
     "tableResultSettingsMap": {},
     "title": ""
    }
   },
   "outputs": [
    {
     "output_type": "stream",
     "name": "stdout",
     "output_type": "stream",
     "text": [
      "+--------------------+--------------------+----------------+----------+---------+-------------------+\n|      transaction_id|         customer_id|transaction_type|btc_amount|usd_value|   transaction_date|\n+--------------------+--------------------+----------------+----------+---------+-------------------+\n|0d621a64-5629-4fd...|20312c29-5fad-4c0...|          compra|0.61403100| 24806.02|2025-01-01 18:33:30|\n|9b1cd724-5981-469...|009a0b26-845b-4d4...|           venda|1.73154500| 83135.70|2025-01-01 18:58:39|\n|e11a9a97-6fdf-419...|8c9eb810-4b48-45d...|           venda|0.72700300| 25084.35|2025-01-01 18:39:06|\n|8370699d-1277-47c...|571708ca-0383-4d9...|           venda|1.26698100| 61645.95|2025-01-01 19:25:02|\n|515e2aa4-3366-4a6...|009a0b26-845b-4d4...|           venda|1.76801200| 54983.22|2025-01-01 18:48:05|\n+--------------------+--------------------+----------------+----------+---------+-------------------+\nonly showing top 5 rows\nTabela 'bronze.transactions' criada com sucesso no Databricks!\n"
     ]
    }
   ],
   "source": [
    "# Configuração de Conexão ao Banco de Dados PostgreSQL\n",
    "jdbc_url = \"jdbc:postgresql://dpg-cuokht5ds78s738lrhs0-a.oregon-postgres.render.com/databricks_2094\"\n",
    "db_properties = {\n",
    "    \"user\": \"databricks_2094_user\",\n",
    "    \"password\": \"KggDjPvWQZHiOrkWVMFO7ocyZwbs1AD8\",\n",
    "    \"driver\": \"org.postgresql.Driver\"\n",
    "}\n",
    "\n",
    "# Nome da tabela no PostgreSQL \n",
    "postgres_table = \"transactions\"\n",
    "\n",
    "# Nome da tabela gerenciada no Databricks\n",
    "databricks_table = \"bronze.transactions\"\n",
    "      \n",
    "\n",
    "# Carregar apenas os dados novos do PostgreSQL para um DataFrame Spark\n",
    "new_transactions_df = (\n",
    "    spark.read.format(\"jdbc\")\n",
    "    .option(\"url\", jdbc_url)\n",
    "    .option(\"dbtable\", postgres_table)\n",
    "    .option(\"user\", db_properties[\"user\"])\n",
    "    .option(\"password\", db_properties[\"password\"])\n",
    "    .option(\"driver\", db_properties[\"driver\"])\n",
    "    .load()\n",
    "    )\n",
    "\n",
    "# Exibir amostra dos dados carregados\n",
    "transactions_df.show(5)\n",
    "\n",
    "# Salvar os dados diretamente em uma tabela gerenciada no Databricks\n",
    "new_transactions_df.write.format(\"delta\").mode(\"overwrite\").saveAsTable(databricks_table)\n",
    "\n",
    "print(f\"Tabela '{databricks_table}' criada com sucesso no Databricks!\")"
   ]
  }
 ],
 "metadata": {
  "application/vnd.databricks.v1+notebook": {
   "computePreferences": null,
   "dashboards": [],
   "environmentMetadata": {
    "base_environment": "",
    "environment_version": "2"
   },
   "language": "python",
   "notebookMetadata": {
    "mostRecentlyExecutedCommandWithImplicitDF": {
     "commandId": 8641354923079927,
     "dataframes": [
      "_sqldf"
     ]
    },
    "pythonIndentUnit": 4
   },
   "notebookName": "ingestao_de_sql_create",
   "widgets": {}
  },
  "language_info": {
   "name": "python"
  }
 },
 "nbformat": 4,
 "nbformat_minor": 0
}