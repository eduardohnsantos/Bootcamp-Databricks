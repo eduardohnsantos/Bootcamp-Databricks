{
 "cells": [
  {
   "cell_type": "code",
   "execution_count": 0,
   "metadata": {
    "application/vnd.databricks.v1+cell": {
     "cellMetadata": {
      "byteLimit": 2048000,
      "rowLimit": 10000
     },
     "inputWidgets": {},
     "nuid": "cd1d5b6d-14f7-4ae3-add7-912119b2f956",
     "showTitle": false,
     "tableResultSettingsMap": {},
     "title": ""
    }
   },
   "outputs": [
    {
     "output_type": "stream",
     "name": "stdout",
     "output_type": "stream",
     "text": [
      "(Última transação encontrada: 2025-01-18 23:53:54.Carregando apenas os dados novos.\nInserindo 2000 novos registros na tabela gerenciada.\nNovos dados inseridos com sucesso!\n"
     ]
    }
   ],
   "source": [
    "# Configuração de Conexão ao Banco de Dados PostgreSQL\n",
    "jdbc_url = \"jdbc:postgresql://dpg-cuokht5ds78s738lrhs0-a.oregon-postgres.render.com/databricks_2094\"\n",
    "db_properties = {\n",
    "    \"user\": \"databricks_2094_user\",\n",
    "    \"password\": \"KggDjPvWQZHiOrkWVMFO7ocyZwbs1AD8\",\n",
    "    \"driver\": \"org.postgresql.Driver\"\n",
    "}\n",
    "\n",
    "# Nome da tabela no PostgreSQL e no Databricks\n",
    "postgres_table = \"transactions\"\n",
    "databricks_table = \"bronze.transactions\"\n",
    "\n",
    "# 1. Obter o último 'transaction_date' da tabela gerenciada no Databricks\n",
    "last_transaction_date = spark.sql(f\"\"\"\n",
    "    SELECT MAX(transaction_date) AS last_transaction_date \n",
    "    FROM {databricks_table}\n",
    "    \"\"\").collect()[0][\"last_transaction_date\"]\n",
    "\n",
    "# Verificar se há um 'last_transaction_date' válido\n",
    "if last_transaction_date is None:\n",
    "    print(\"Nenhuma dado encontrado na tabela gerenciada. Carregando todos os dados do PostgreSQL.\")\n",
    "    query = f\"(SELECT * FROM {postgres_table}) AS t\"\n",
    "else:\n",
    "    print(f\"(Última transação encontrada: {last_transaction_date}.Carregando apenas os dados novos.\")\n",
    "    query = f\"\"\"\n",
    "        (SELECT *\n",
    "         FROM {postgres_table}\n",
    "         WHERE transaction_date > '{last_transaction_date}') AS t \n",
    "        \"\"\"        \n",
    "\n",
    "# Carregar apenas os dados novos do PostgreSQL para um DataFrame Spark\n",
    "new_transactions_df = (\n",
    "    spark.read.format(\"jdbc\")\n",
    "    .option(\"url\", jdbc_url)\n",
    "    .option(\"dbtable\", postgres_table)\n",
    "    .option(\"user\", db_properties[\"user\"])\n",
    "    .option(\"password\", db_properties[\"password\"])\n",
    "    .option(\"driver\", db_properties[\"driver\"])\n",
    "    .load()\n",
    "    )\n",
    "\n",
    "# Verificar se há dados novos para inserir\n",
    "if new_transactions_df.count() > 0:\n",
    "    print(f\"Inserindo {new_transactions_df.count()} novos registros na tabela gerenciada.\")\n",
    "\n",
    "# 3. Inserir dados novos na tabela gerenciada\n",
    "    new_transactions_df.write.format(\"delta\").mode(\"append\").saveAsTable(databricks_table)\n",
    "\n",
    "    print(\"Novos dados inseridos com sucesso!\")\n",
    "else:\n",
    "    print(\"Nenhum dado novo encontrado para inserção.\")\n",
    "\n"
   ]
  }
 ],
 "metadata": {
  "application/vnd.databricks.v1+notebook": {
   "computePreferences": null,
   "dashboards": [],
   "environmentMetadata": {
    "base_environment": "",
    "environment_version": "2"
   },
   "language": "python",
   "notebookMetadata": {
    "mostRecentlyExecutedCommandWithImplicitDF": {
     "commandId": 8641354923079927,
     "dataframes": [
      "_sqldf"
     ]
    },
    "pythonIndentUnit": 4
   },
   "notebookName": "ingestao_de_sql",
   "widgets": {}
  },
  "language_info": {
   "name": "python"
  }
 },
 "nbformat": 4,
 "nbformat_minor": 0
}